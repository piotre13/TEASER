{
 "cells": [
  {
   "cell_type": "code",
   "execution_count": 1,
   "id": "2ddd49ca-a129-499d-893f-cf2d20f45ea7",
   "metadata": {},
   "outputs": [],
   "source": [
    "from test_teaser_backend import *\n",
    "import pandas as pd"
   ]
  },
  {
   "cell_type": "code",
   "execution_count": 2,
   "id": "61a6f0fa-049d-467d-8956-5ded60662129",
   "metadata": {},
   "outputs": [],
   "source": [
    "dict_building = {\n",
    "    'i': [0],\n",
    "    'type': ['residential'],\n",
    "    'method':['iwu'],\n",
    "    'usage':['single_family_dwelling'],\n",
    "    'name':[\"ResidentialBuilding\"],\n",
    "    'year_of_construction':[1988],\n",
    "    'number_of_floors':[2],\n",
    "    'height_of_floors':[3.2],\n",
    "    'net_leased_area':[200]    \n",
    "}"
   ]
  },
  {
   "cell_type": "code",
   "execution_count": 3,
   "id": "62e4c2f3-7652-40d0-bbe5-768ccc81a57a",
   "metadata": {},
   "outputs": [
    {
     "name": "stdout",
     "output_type": "stream",
     "text": [
      "ok\n",
      "iwu\n"
     ]
    }
   ],
   "source": [
    "db = pd.DataFrame.from_dict(dict_building)\n",
    "for index, row in db.iterrows():\n",
    "    if row['type'] == 'residential':\n",
    "        print('ok')\n",
    "        print(row['method'])"
   ]
  },
  {
   "cell_type": "code",
   "execution_count": 4,
   "id": "6752c860-8e3f-4482-876a-fcabd8040f9b",
   "metadata": {},
   "outputs": [],
   "source": [
    "prj = generate_archetype('esempio', db)"
   ]
  },
  {
   "cell_type": "code",
   "execution_count": 5,
   "id": "d860c853-fafc-4ff1-8eab-8bed193062a8",
   "metadata": {},
   "outputs": [
    {
     "name": "stdout",
     "output_type": "stream",
     "text": [
      "Exports can be found here:\n",
      "C:\\Users\\DanieleSchiera\\Documents\\python_projects\\ec_lab-uesa\\uesa\\models\\esempio\n"
     ]
    }
   ],
   "source": [
    "export_ibpsa(prj,r\"C:\\Users\\DanieleSchiera\\Documents\\python_projects\\ec_lab-uesa\\uesa\\models\")"
   ]
  },
  {
   "cell_type": "code",
   "execution_count": 6,
   "id": "53ed6ae6-7c96-42be-9b90-8b792b2fceaf",
   "metadata": {},
   "outputs": [],
   "source": [
    "from OMPython import OMCSessionZMQ"
   ]
  },
  {
   "cell_type": "code",
   "execution_count": 7,
   "id": "0e7ec33d-b68d-453c-8fd9-4cfa1b98f3f0",
   "metadata": {},
   "outputs": [],
   "source": [
    "omc = OMCSessionZMQ()"
   ]
  },
  {
   "cell_type": "code",
   "execution_count": 15,
   "id": "56b4f744-148e-4ac3-b8f7-0d451a9f6068",
   "metadata": {},
   "outputs": [
    {
     "data": {
      "text/plain": [
       "'OpenModelica v1.16.0 (64-bit)'"
      ]
     },
     "execution_count": 15,
     "metadata": {},
     "output_type": "execute_result"
    }
   ],
   "source": [
    "omc.sendExpression(\"getVersion()\")"
   ]
  },
  {
   "cell_type": "code",
   "execution_count": 20,
   "id": "52fc4869-28f9-4c9d-925c-21cca2ce1d16",
   "metadata": {},
   "outputs": [
    {
     "data": {
      "text/plain": [
       "True"
      ]
     },
     "execution_count": 20,
     "metadata": {},
     "output_type": "execute_result"
    }
   ],
   "source": [
    "omc.sendExpression(\"loadModel(Modelica, {\\\"3.2.3\\\"})\") # load System Library"
   ]
  },
  {
   "cell_type": "code",
   "execution_count": 9,
   "id": "1cd8ecb1-e086-43a6-abef-84648b8f694f",
   "metadata": {},
   "outputs": [
    {
     "data": {
      "text/plain": [
       "True"
      ]
     },
     "execution_count": 9,
     "metadata": {},
     "output_type": "execute_result"
    }
   ],
   "source": [
    "omc.sendExpression(\"loadFile(\\\"C:/Users/DanieleSchiera/Documents/python_projects/ec_lab-uesa/uesa/models/esempio/package.mo\\\")\")"
   ]
  },
  {
   "cell_type": "code",
   "execution_count": 10,
   "id": "f2bdd1ba-9910-4ec5-90dd-9dd06ba36f02",
   "metadata": {},
   "outputs": [
    {
     "data": {
      "text/plain": [
       "('Buildings', 'esempio', 'ModelicaServices', 'Complex', 'Modelica')"
      ]
     },
     "execution_count": 10,
     "metadata": {},
     "output_type": "execute_result"
    }
   ],
   "source": [
    "omc.sendExpression(\"getClassNames()\") # get Classes"
   ]
  },
  {
   "cell_type": "code",
   "execution_count": 11,
   "id": "e760e516-b379-4844-9596-2a6f2a8b52f2",
   "metadata": {},
   "outputs": [
    {
     "data": {
      "text/plain": [
       "True"
      ]
     },
     "execution_count": 11,
     "metadata": {},
     "output_type": "execute_result"
    }
   ],
   "source": [
    "omc.sendExpression(\"isModel(esempio.ResidentialBuilding.ResidentialBuilding_Models.ResidentialBuilding_SingleDwelling)\")"
   ]
  },
  {
   "cell_type": "code",
   "execution_count": 21,
   "id": "83631307-cd96-43a2-9ffb-3840c7aed007",
   "metadata": {},
   "outputs": [
    {
     "data": {
      "text/plain": [
       "'Check of esempio.ResidentialBuilding.ResidentialBuilding_Models.ResidentialBuilding_SingleDwelling completed successfully.\\nClass esempio.ResidentialBuilding.ResidentialBuilding_Models.ResidentialBuilding_SingleDwelling has 1452 equation(s) and 1272 variable(s).\\n903 of these are trivial equation(s).'"
      ]
     },
     "execution_count": 21,
     "metadata": {},
     "output_type": "execute_result"
    }
   ],
   "source": [
    "omc.sendExpression(\"checkModel(esempio.ResidentialBuilding.ResidentialBuilding_Models.ResidentialBuilding_SingleDwelling)\")"
   ]
  },
  {
   "cell_type": "code",
   "execution_count": 13,
   "id": "7c5e1dfb-a4ae-4f07-84ce-99ffe4db39cf",
   "metadata": {},
   "outputs": [
    {
     "data": {
      "text/plain": [
       "''"
      ]
     },
     "execution_count": 13,
     "metadata": {},
     "output_type": "execute_result"
    }
   ],
   "source": [
    "omc.sendExpression(\"instantiateModel(esempio.ResidentialBuilding.ResidentialBuilding_Models.ResidentialBuilding_SingleDwelling)\")"
   ]
  },
  {
   "cell_type": "code",
   "execution_count": 22,
   "id": "a5dcc6b5-5e73-43c5-bda3-eb9b77da1d4d",
   "metadata": {},
   "outputs": [
    {
     "data": {
      "text/plain": [
       "''"
      ]
     },
     "execution_count": 22,
     "metadata": {},
     "output_type": "execute_result"
    }
   ],
   "source": [
    "omc.sendExpression(\"translateModelFMU(esempio.ResidentialBuilding.ResidentialBuilding_Models.ResidentialBuilding_SingleDwelling)\")"
   ]
  },
  {
   "cell_type": "code",
   "execution_count": null,
   "id": "f1c24a44-bb30-468c-b1ca-d911c672bff4",
   "metadata": {},
   "outputs": [],
   "source": []
  }
 ],
 "metadata": {
  "kernelspec": {
   "display_name": "Python 3 (ipykernel)",
   "language": "python",
   "name": "python3"
  },
  "language_info": {
   "codemirror_mode": {
    "name": "ipython",
    "version": 3
   },
   "file_extension": ".py",
   "mimetype": "text/x-python",
   "name": "python",
   "nbconvert_exporter": "python",
   "pygments_lexer": "ipython3",
   "version": "3.8.5"
  }
 },
 "nbformat": 4,
 "nbformat_minor": 5
}
